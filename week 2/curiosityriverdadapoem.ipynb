{
 "cells": [
  {
   "cell_type": "code",
   "execution_count": 30,
   "metadata": {},
   "outputs": [
    {
     "name": "stdout",
     "output_type": "stream",
     "text": [
      "will Your set here, reddest\n",
      "hills; always to in. candle's\n",
      "It in rover fall when the\n",
      "lived will. fading ever\n",
      "science with Mars' among you a\n",
      "your burned the before me long\n",
      "you the out tracks never your\n",
      "wind owe I much. dust life\n",
      "like so seems your sunset\n"
     ]
    }
   ],
   "source": [
    "import random\n",
    "import textwrap\n",
    "\n",
    "curiosityrover = \"\"\"\n",
    "It seems to me you lived your life \n",
    "like a rover in the wind \n",
    "never fading with the sunset \n",
    "when the dust set in. \n",
    "Your tracks will always fall here, \n",
    "among Mars' reddest hills; \n",
    "your candle's burned out long before \n",
    "your science ever will.\n",
    "I owe you so much.\"\"\"\n",
    "\n",
    "words = curiosityrover.split()\n",
    "random.shuffle(words)\n",
    "\n",
    "print(textwrap.fill(\" \".join(words), 30))"
   ]
  }
 ],
 "metadata": {
  "kernelspec": {
   "display_name": "Python 3",
   "language": "python",
   "name": "python3"
  },
  "language_info": {
   "codemirror_mode": {
    "name": "ipython",
    "version": 3
   },
   "file_extension": ".py",
   "mimetype": "text/x-python",
   "name": "python",
   "nbconvert_exporter": "python",
   "pygments_lexer": "ipython3",
   "version": "3.6.4"
  }
 },
 "nbformat": 4,
 "nbformat_minor": 2
}
