{
 "cells": [
  {
   "cell_type": "code",
   "execution_count": 16,
   "metadata": {},
   "outputs": [
    {
     "name": "stdout",
     "output_type": "stream",
     "text": [
      "you around on forever, astrophysical and are They from maybe\n",
      "formed space. stars, perfect holes have an didn’t them, then\n",
      "centers, thought are ones. black they There You as mirrors\n",
      "heard in may emit or the and hot of swallow stars.\n",
      "physicists’ sit the You notice. jets are Mathematical\n",
      "experiments. infinitely occasion in black but those. of\n",
      "focus of heard existed hand, into They not plasma, of too,\n",
      "they Astrophysical universe. large, other those sit holes,\n",
      "on empty holes, galactic there extend serve six black\n",
      "dimensions of have mathematical collapsing have be and have\n"
     ]
    }
   ],
   "source": [
    "import random\n",
    "import textwrap\n",
    "\n",
    "blackhole = \"\"\"\n",
    "There are astrophysical black holes, \n",
    "and then there are mathematical ones. \n",
    "Astrophysical black holes sit in \n",
    "galactic centers, emit jets of hot \n",
    "plasma, and on occasion swallow stars. \n",
    "You have heard of those. Mathematical \n",
    "black holes, on the other hand, serve \n",
    "as the focus of physicists’ thought \n",
    "experiments. They are not formed from \n",
    "collapsing stars, they have existed \n",
    "forever, and they sit in an empty \n",
    "universe. They may be infinitely large, \n",
    "have perfect mirrors around them, or \n",
    "extend into six dimensions of space. \n",
    "You have heard of those too, but maybe \n",
    "you didn’t notice.\"\"\"\n",
    "\n",
    "words = blackhole.split()\n",
    "random.shuffle(words)\n",
    "\n",
    "print(textwrap.fill(\" \".join(words), 60))"
   ]
  },
  {
   "cell_type": "code",
   "execution_count": null,
   "metadata": {},
   "outputs": [],
   "source": []
  }
 ],
 "metadata": {
  "kernelspec": {
   "display_name": "Python 3",
   "language": "python",
   "name": "python3"
  },
  "language_info": {
   "codemirror_mode": {
    "name": "ipython",
    "version": 3
   },
   "file_extension": ".py",
   "mimetype": "text/x-python",
   "name": "python",
   "nbconvert_exporter": "python",
   "pygments_lexer": "ipython3",
   "version": "3.6.4"
  }
 },
 "nbformat": 4,
 "nbformat_minor": 2
}
