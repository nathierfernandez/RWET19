{
 "cells": [
  {
   "cell_type": "code",
   "execution_count": 31,
   "metadata": {},
   "outputs": [],
   "source": [
    "import random"
   ]
  },
  {
   "cell_type": "code",
   "execution_count": 42,
   "metadata": {},
   "outputs": [],
   "source": [
    "materials = [\n",
    "    'brick',\n",
    "    'broken dishes',\n",
    "    'cooper',\n",
    "    'dust',\n",
    "    'glass',\n",
    "    'leaves',\n",
    "    'mud',\n",
    "    'paper',\n",
    "    'plastic',\n",
    "    'roots',\n",
    "    'sand',\n",
    "    'steel',\n",
    "    'stone',\n",
    "    'straw',\n",
    "    'tin',\n",
    "    'weeds',\n",
    "    'wood'\n",
    "]"
   ]
  },
  {
   "cell_type": "code",
   "execution_count": 66,
   "metadata": {},
   "outputs": [],
   "source": [
    "locations = [\n",
    "    'among dwarf galaxies',\n",
    "    'among other superclusters',\n",
    "    'among small stars',\n",
    "    'by a supermasive black hole',\n",
    "    'by an abandoned pulsar',\n",
    "    'by the aasteroid belt',\n",
    "    'in a cold, windy dust cloud',\n",
    "    'in a deserted galaxy',\n",
    "    'in the deserted rings of saturn',\n",
    "    'in a deserted solar system ',\n",
    "    'in a green, mossy moon',\n",
    "    'in a hot hypernova',\n",
    "    'in a cloud',\n",
    "    'in a place with both heavy rain and a bright blue sun',\n",
    "    'in an overpopulated planet',\n",
    "    'in dense woods',\n",
    "    'in purgatory',\n",
    "    'in Proxima centauri B',\n",
    "    'in virgo supercluster',\n",
    "    'inside a  black hole',\n",
    "    'on an rogue planet',\n",
    "    'on the galilean moons',\n",
    "    'underwater'\n",
    "]"
   ]
  },
  {
   "cell_type": "code",
   "execution_count": 67,
   "metadata": {},
   "outputs": [],
   "source": [
    "medium = [\n",
    "    'black magic',\n",
    "    'ancient medicine',\n",
    "    'electricity',\n",
    "    'telephaty'\n",
    "]"
   ]
  },
  {
   "cell_type": "code",
   "execution_count": 69,
   "metadata": {},
   "outputs": [],
   "source": [
    "inhabitants = [\n",
    "    'vestal virgins',\n",
    "    'children and old witches',\n",
    "    'bacteria',\n",
    "    'fishermen and families',\n",
    "    'dead languages speaking people',\n",
    "    'friends',\n",
    "    'enemies',\n",
    "    'horses of war',\n",
    "    'Patti Smith',\n",
    "    'lovers',\n",
    "    'invertebrates',\n",
    "    'people speaking lies',\n",
    "    'people who eat insects',\n",
    "    'people who hates robots',\n",
    "    'people who love',\n",
    "    'people who sleep almost all the time',\n",
    "    'people who sleep very little',\n",
    "    'the last humans',\n",
    "    'ghosts',\n",
    "    'second generation human martians'\n",
    "]"
   ]
  },
  {
   "cell_type": "code",
   "execution_count": 76,
   "metadata": {
    "scrolled": false
   },
   "outputs": [
    {
     "name": "stdout",
     "output_type": "stream",
     "text": [
      "\n",
      "An exploration rover made of glass\n",
      "     by an abandoned pulsar\n",
      "          using electricity\n",
      "                commanded by people who eat insects\n",
      "\n",
      "An exploration rover made of straw\n",
      "     in virgo supercluster\n",
      "          using ancient medicine\n",
      "                commanded by bacteria\n",
      "\n",
      "An exploration rover made of brick\n",
      "     in a deserted solar system \n",
      "          using black magic\n",
      "                commanded by people who sleep very little\n",
      "\n",
      "An exploration rover made of leaves\n",
      "     in a cold, windy dust cloud\n",
      "          using electricity\n",
      "                commanded by Patti Smith\n",
      "\n",
      "An exploration rover made of tin\n",
      "     on the galilean moons\n",
      "          using black magic\n",
      "                commanded by people who hates robots\n",
      "\n",
      "An exploration rover made of tin\n",
      "     in a green, mossy moon\n",
      "          using ancient medicine\n",
      "                commanded by invertebrates\n",
      "\n",
      "An exploration rover made of plastic\n",
      "     in a hot hypernova\n",
      "          using electricity\n",
      "                commanded by people speaking lies\n"
     ]
    }
   ],
   "source": [
    "\n",
    "stanza_count = 7\n",
    "for i in range(stanza_count):\n",
    "    print()\n",
    "    print(\"An exploration rover made of \" + random.choice(materials))\n",
    "    print(\"     \" + random.choice(locations))\n",
    "    print(\"          using \" + random.choice(medium))\n",
    "    print(\"                commanded by \" + random.choice(inhabitants))"
   ]
  }
 ],
 "metadata": {
  "kernelspec": {
   "display_name": "Python 3",
   "language": "python",
   "name": "python3"
  },
  "language_info": {
   "codemirror_mode": {
    "name": "ipython",
    "version": 3
   },
   "file_extension": ".py",
   "mimetype": "text/x-python",
   "name": "python",
   "nbconvert_exporter": "python",
   "pygments_lexer": "ipython3",
   "version": "3.6.4"
  }
 },
 "nbformat": 4,
 "nbformat_minor": 2
}
