{
 "cells": [
  {
   "cell_type": "code",
   "execution_count": 37,
   "metadata": {},
   "outputs": [],
   "source": [
    "import random"
   ]
  },
  {
   "cell_type": "code",
   "execution_count": 38,
   "metadata": {},
   "outputs": [],
   "source": [
    "import textwrap"
   ]
  },
  {
   "cell_type": "code",
   "execution_count": 39,
   "metadata": {},
   "outputs": [],
   "source": [
    "words_clouds = open(\"goetheclouds.txt\").read().split()\n"
   ]
  },
  {
   "cell_type": "code",
   "execution_count": 91,
   "metadata": {},
   "outputs": [],
   "source": [
    "words_bacteria = open(\"bacteriawikipedia.txt\").read().split()\n"
   ]
  },
  {
   "cell_type": "code",
   "execution_count": 94,
   "metadata": {},
   "outputs": [],
   "source": [
    "words_both = words_clouds + words_bacteria"
   ]
  },
  {
   "cell_type": "code",
   "execution_count": 95,
   "metadata": {},
   "outputs": [],
   "source": [
    "words_poem = random.sample(words_both, 20)\n"
   ]
  },
  {
   "cell_type": "code",
   "execution_count": 96,
   "metadata": {},
   "outputs": [
    {
     "name": "stdout",
     "output_type": "stream",
     "text": [
      "['tall,', 'discovery', 'biological', 'move,', 'spills,', 'of', 'the', 'silvery', 'We', 'they', 'pathogenic', 'adaptable', 'the', 'Africa.In', 'gently', 'The', 'as', 'vanish', 'cycle', 'recycling']\n"
     ]
    }
   ],
   "source": [
    "print(words_poem)"
   ]
  },
  {
   "cell_type": "code",
   "execution_count": 98,
   "metadata": {
    "scrolled": true
   },
   "outputs": [
    {
     "name": "stdout",
     "output_type": "stream",
     "text": [
      "\n",
      "to microorganisms. of the of including from famous beneficial, by in\n",
      "troubled are gold, the all known all the reported bacteria sector,as\n",
      "which is not of on other mingling approximately\n",
      "\n",
      "few sub-Saharan mounts while known the by different habitats. mostly\n",
      "heaven’s High in and of that among some of thrill cells and as cycle\n",
      "bacterial antibiotics the are are the\n",
      "\n",
      "in classification destiny hot killing few also domains The We and used\n",
      "two of the joy thrive bacterial biotechnology, the treat endeavour of\n",
      "includes its about radioactive floor shapes, hall;\n",
      "\n",
      "million spreading the welcome \"you cells a Beneath animals. Then to\n",
      "the for in bacterial on and clash, sustain There protective sector,as\n",
      "a hydrothermal canopy; like call have Africa.In rods\n",
      "\n",
      "round 900%. However in male cells the forms habitats. it the metals\n",
      "Nimbus cells infectious have used to hangs methane, a cells displayed;\n",
      "among in of of darkening reported in\n"
     ]
    }
   ],
   "source": [
    "stanza_count = 5\n",
    "for i in range(stanza_count):\n",
    "    \n",
    "    print()\n",
    "    print(textwrap.fill(\" \".join(random.sample(words_both,30))))\n",
    "  \n",
    "      \n"
   ]
  }
 ],
 "metadata": {
  "kernelspec": {
   "display_name": "Python 3",
   "language": "python",
   "name": "python3"
  },
  "language_info": {
   "codemirror_mode": {
    "name": "ipython",
    "version": 3
   },
   "file_extension": ".py",
   "mimetype": "text/x-python",
   "name": "python",
   "nbconvert_exporter": "python",
   "pygments_lexer": "ipython3",
   "version": "3.6.4"
  }
 },
 "nbformat": 4,
 "nbformat_minor": 2
}
