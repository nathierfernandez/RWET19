{
 "cells": [
  {
   "cell_type": "code",
   "execution_count": 106,
   "metadata": {
    "scrolled": true
   },
   "outputs": [
    {
     "name": "stdout",
     "output_type": "stream",
     "text": [
      "Requirement already satisfied: tracery in /Users/nathierfernandez/anaconda3/lib/python3.6/site-packages\n",
      "\u001b[33mYou are using pip version 9.0.1, however version 19.0.3 is available.\n",
      "You should consider upgrading via the 'pip install --upgrade pip' command.\u001b[0m\n"
     ]
    }
   ],
   "source": [
    "!pip install tracery\n"
   ]
  },
  {
   "cell_type": "code",
   "execution_count": 107,
   "metadata": {},
   "outputs": [],
   "source": [
    "import tracery\n"
   ]
  },
  {
   "cell_type": "code",
   "execution_count": 108,
   "metadata": {},
   "outputs": [],
   "source": [
    "from tracery.modifiers import base_english\n"
   ]
  },
  {
   "cell_type": "code",
   "execution_count": 109,
   "metadata": {},
   "outputs": [],
   "source": [
    "import random"
   ]
  },
  {
   "cell_type": "code",
   "execution_count": 110,
   "metadata": {},
   "outputs": [],
   "source": [
    "text = open(\"genesis.txt\").read()\n"
   ]
  },
  {
   "cell_type": "code",
   "execution_count": 111,
   "metadata": {},
   "outputs": [
    {
     "data": {
      "text/plain": [
       "'In the beginning God created the heaven and the earth. \\nAnd the earth was without form, and void; and darkness was upon the face of the deep. And the Spirit of God moved upon the face of the waters. \\nAnd God said, Let there be light: and there was light. \\nAnd God saw the light, that it was good: and God divided the light from the darkness. \\nAnd God called the light Day, and the darkness he called Night. And the evening and the morning were the first day. \\nAnd God said, Let there be a firmament in the midst of the waters, and let it divide the waters from the waters. \\nAnd God made the firmament, and divided the waters which were under the firmament from the waters which were above the firmament: and it was so. \\nAnd God called the firmament Heaven. And the evening and the morning were the second day. \\nAnd God said, Let the waters under the heaven be gathered together unto one place, and let the dry land appear: and it was so. \\nAnd God called the dry land Earth; and the gathering together of the waters called he Seas: and God saw that it was good. \\nAnd God said, Let the earth bring forth grass, the herb yielding seed, and the fruit tree yielding fruit after his kind, whose seed is in itself, upon the earth: and it was so. \\nAnd the earth brought forth grass, and herb yielding seed after his kind, and the tree yielding fruit, whose seed was in itself, after his kind: and God saw that it was good. \\nAnd the evening and the morning were the third day. \\nAnd God said, Let there be lights in the firmament of the heaven to divide the day from the night; and let them be for signs, and for seasons, and for days, and years: \\nAnd let them be for lights in the firmament of the heaven to give light upon the earth: and it was so. \\nAnd God made two great lights; the greater light to rule the day, and the lesser light to rule the night: he made the stars also. \\nAnd God set them in the firmament of the heaven to give light upon the earth, \\nAnd to rule over the day and over the night, and to divide the light from the darkness: and God saw that it was good. \\nAnd the evening and the morning were the fourth day. \\nAnd God said, Let the waters bring forth abundantly the moving creature that hath life, and fowl that may fly above the earth in the open firmament of heaven. \\nAnd God created great whales, and every living creature that moveth, which the waters brought forth abundantly, after their kind, and every winged fowl after his kind: and God saw that it was good. \\nAnd God blessed them, saying, Be fruitful, and multiply, and fill the waters in the seas, and let fowl multiply in the earth. \\nAnd the evening and the morning were the fifth day. \\nAnd God said, Let the earth bring forth the living creature after his kind, cattle, and creeping thing, and beast of the earth after his kind: and it was so. \\nAnd God made the beast of the earth after his kind, and cattle after their kind, and every thing that creepeth upon the earth after his kind: and God saw that it was good. \\nAnd God said, Let us make man in our image, after our likeness: and let them have dominion over the fish of the sea, and over the fowl of the air, and over the cattle, and over all the earth, and over every creeping thing that creepeth upon the earth. \\nSo God created man in his own image, in the image of God created he him; male and female created he them. \\nAnd God blessed them, and God said unto them, Be fruitful, and multiply, and replenish the earth, and subdue it: and have dominion over the fish of the sea, and over the fowl of the air, and over every living thing that moveth upon the earth. \\nAnd God said, Behold, I have given you every herb bearing seed, which is upon the face of all the earth, and every tree, in the which is the fruit of a tree yielding seed; to you it shall be for meat. \\nAnd to every beast of the earth, and to every fowl of the air, and to every thing that creepeth upon the earth, wherein there is life, I have given every green herb for meat: and it was so. \\nAnd God saw every thing that he had made, and, behold, it was very good. And the evening and the morning were the sixth day. \\n'"
      ]
     },
     "execution_count": 111,
     "metadata": {},
     "output_type": "execute_result"
    }
   ],
   "source": [
    "text "
   ]
  },
  {
   "cell_type": "code",
   "execution_count": 112,
   "metadata": {
    "scrolled": false
   },
   "outputs": [
    {
     "name": "stdout",
     "output_type": "stream",
     "text": [
      "In the beginning the virus created the heaven and the earth. \n",
      "And the earth was without form, and void; and darkness was upon the face of the deep. And the DNA of the virus moved upon the face of the waters. \n",
      "And the virus said, Let there be light: and there was light. \n",
      "And the virus saw the light, that it was good: and the virus divided the light from the darkness. \n",
      "And the virus called the light Day, and the darkness he called Night. And the evening and the morning were the first day. \n",
      "And the virus said, Let there be a firmament in the midst of the waters, and let it divide the waters from the waters. \n",
      "And the virus made the firmament, and divided the waters which were under the firmament from the waters which were above the firmament: and it was so. \n",
      "And the virus called the firmament Heaven. And the evening and the morning were the second day. \n",
      "And the virus said, Let the waters under the heaven be gathered together unto one place, and let the dry land appear: and it was so. \n",
      "And the virus called the dry land Earth; and the gathering together of the waters called he Seas: and the virus saw that it was good. \n",
      "And the virus said, Let the earth bring forth grass, the herb yielding seed, and the fruit tree yielding fruit after his kind, whose seed is in itself, upon the earth: and it was so. \n",
      "And the earth brought forth grass, and herb yielding seed after his kind, and the tree yielding fruit, whose seed was in itself, after his kind: and the virus saw that it was good. \n",
      "And the evening and the morning were the third day. \n",
      "And the virus said, Let there be lights in the firmament of the heaven to divide the day from the night; and let them be for signs, and for seasons, and for days, and years: \n",
      "And let them be for lights in the firmament of the heaven to give light upon the earth: and it was so. \n",
      "And the virus made two great lights; the greater light to rule the day, and the lesser light to rule the night: he made the stars also. \n",
      "And the virus set them in the firmament of the heaven to give light upon the earth, \n",
      "And to rule over the day and over the night, and to divide the light from the darkness: and the virus saw that it was good. \n",
      "And the evening and the morning were the fourth day. \n",
      "And the virus said, Let the waters bring forth abundantly the moving creature that hath life, and fowl that may fly above the earth in the open firmament of heaven. \n",
      "And the virus created great whales, and every living creature that moveth, which the waters brought forth abundantly, after their kind, and every winged fowl after his kind: and the virus saw that it was good. \n",
      "And the virus blessed them, saying, Be fruitful, and multiply, and fill the waters in the seas, and let fowl multiply in the earth. \n",
      "And the evening and the morning were the fifth day. \n",
      "And the virus said, Let the earth bring forth the living creature after his kind, cattle, and creeping thing, and beast of the earth after his kind: and it was so. \n",
      "And the virus made the beast of the earth after his kind, and cattle after their kind, and every thing that creepeth upon the earth after his kind: and the virus saw that it was good. \n",
      "And the virus said, Let us make man in our image, after our likeness: and let them have dominion over the fish of the sea, and over the fowl of the air, and over the cattle, and over all the earth, and over every creeping thing that creepeth upon the earth. \n",
      "So the virus created man in his own image, in the image of the virus created he him; male and female created he them. \n",
      "And the virus blessed them, and the virus said unto them, Be fruitful, and multiply, and replenish the earth, and subdue it: and have dominion over the fish of the sea, and over the fowl of the air, and over every living thing that moveth upon the earth. \n",
      "And the virus said, Behold, I have given you every herb bearing seed, which is upon the face of all the earth, and every tree, in the which is the fruit of a tree yielding seed; to you it shall be for meat. \n",
      "And to every beast of the earth, and to every fowl of the air, and to every thing that creepeth upon the earth, wherein there is life, I have given every green herb for meat: and it was so. \n",
      "And the virus saw every thing that he had made, and, behold, it was very good. And the evening and the morning were the sixth day. \n",
      "\n"
     ]
    }
   ],
   "source": [
    "print(text.replace(\"God\", \"the virus\").replace(\"Spirit\", \"DNA\"))\n",
    "\n"
   ]
  },
  {
   "cell_type": "code",
   "execution_count": 113,
   "metadata": {},
   "outputs": [],
   "source": [
    "import json"
   ]
  },
  {
   "cell_type": "code",
   "execution_count": 159,
   "metadata": {},
   "outputs": [],
   "source": [
    "data1 = json.load(open(\"./moods.json\"))\n",
    "data2 = json.load(open(\"./isms.json\"))\n"
   ]
  },
  {
   "cell_type": "code",
   "execution_count": 171,
   "metadata": {},
   "outputs": [],
   "source": [
    "\n",
    "mood = data1['moods']\n",
    "art = data2['isms']"
   ]
  },
  {
   "cell_type": "code",
   "execution_count": 172,
   "metadata": {},
   "outputs": [
    {
     "data": {
      "text/plain": [
       "'objective'"
      ]
     },
     "execution_count": 172,
     "metadata": {},
     "output_type": "execute_result"
    }
   ],
   "source": [
    "random.choice(mood)\n"
   ]
  },
  {
   "cell_type": "code",
   "execution_count": 173,
   "metadata": {},
   "outputs": [
    {
     "data": {
      "text/plain": [
       "'gothic art'"
      ]
     },
     "execution_count": 173,
     "metadata": {},
     "output_type": "execute_result"
    }
   ],
   "source": [
    "random.choice(art)"
   ]
  },
  {
   "cell_type": "code",
   "execution_count": 174,
   "metadata": {},
   "outputs": [],
   "source": [
    "verb = [\"accelerate\",\n",
    "        \"acclimatize\",\n",
    "        \"acidify\",\n",
    "        \"asphyxiate\",\n",
    "        \"bleed\",\n",
    "        \"choke\",\n",
    "        \"burst\",\n",
    "        \"collapse\",\n",
    "        \"crystallize\",\n",
    "        \"bruise\",\n",
    "        \"deactivate\",\n",
    "        \"darken\",\n",
    "        \"deploy\",\n",
    "        \"deteriorate\",\n",
    "        \"distort\",\n",
    "        \"erase\",\n",
    "        \"duplicate\",\n",
    "        \"mutate\",\n",
    "        \"expand\",\n",
    "        \"fracture\",\n",
    "        \"worsen\"]\n",
    "        "
   ]
  },
  {
   "cell_type": "code",
   "execution_count": 175,
   "metadata": {},
   "outputs": [],
   "source": [
    "adverb = [\"In the beginning\", \"And in the evening\", \"Upon the face\", \"And in the morning\",\"Under the heaven\",\n",
    "           \"Under the microscope\",]"
   ]
  },
  {
   "cell_type": "code",
   "execution_count": 252,
   "metadata": {},
   "outputs": [],
   "source": [
    "adverb2 = [\"darkness was upon\", \"under the firmament\", \"the day from the night\", \"firmament in the midst\"]"
   ]
  },
  {
   "cell_type": "code",
   "execution_count": 337,
   "metadata": {},
   "outputs": [
    {
     "name": "stdout",
     "output_type": "stream",
     "text": [
      "5'                                                                              3'\n",
      "    Under the microscope, a honored virus, created the heaven and the earth,\n",
      "      firmament in the midst, a biedermeier DNA, without form, and void; \n",
      "            be light: there was light and the virus worsen.  \n",
      "                         And the codons duplicate,  \n",
      "                           it was naturalism.  \n",
      "                         RNA bruise the light;  \n",
      "                     the ashamed made the firmament,   \n",
      "              and divided the proteins the day from the night tested.  \n",
      "   And the virus mutate great chaos, and every living creature nostalgic .  \n",
      "3'                                                                              5'\n"
     ]
    }
   ],
   "source": [
    "\n",
    "rule = {\n",
    "\n",
    "    \"genesis1\": [\"#adverb.capitalize#, #mood.a# virus, created the heaven and the earth,\"],\n",
    "    \"genesis2\": [\"#adverb2#, #art.a# DNA, without form, and void;\"],\n",
    "    \"genesis3\": [\"be light: there was light and the virus #verb#.\"],\n",
    "    \"genesis4\": [\"And the codons #verb#,\"],\n",
    "    \"genesis5\": [\"it was #art#.\"],\n",
    "    \"genesis6\": [\"RNA #verb# the light;\"],\n",
    "    \"genesis7\": [\"the #mood# made the firmament, \"],\n",
    "    \"genesis8\": [\"and divided the proteins #adverb2# #mood#.\"],\n",
    "    \"genesis9\": [\"And the virus #verb# great chaos, and every living creature #mood# .\"],\n",
    "    \"adverb\": adverb,\n",
    "    \"adverb2\": adverb2,\n",
    "    \"verb\": verb,\n",
    "    \"mood\": mood,\n",
    "    \"art\":art\n",
    "}\n",
    "grammar = tracery.Grammar(rule)\n",
    "grammar.add_modifiers(base_english)\n",
    "print (grammar. flatten(\"5'                                                                              3'\"))\n",
    "print (grammar. flatten(\"    #genesis1#\"))\n",
    "print (grammar. flatten(\"      #genesis2# \"))\n",
    "print (grammar. flatten(\"            #genesis3#  \"))\n",
    "print (grammar. flatten(\"                         #genesis4#  \"))\n",
    "print (grammar. flatten(\"                           #genesis5#  \"))\n",
    "print (grammar. flatten(\"                         #genesis6#  \"))\n",
    "print (grammar. flatten(\"                     #genesis7#  \"))\n",
    "print (grammar. flatten(\"              #genesis8#  \"))\n",
    "print (grammar. flatten(\"   #genesis9#  \"))\n",
    "\n",
    "print (grammar. flatten(\"3'                                                                              5'\"))"
   ]
  },
  {
   "cell_type": "code",
   "execution_count": null,
   "metadata": {},
   "outputs": [],
   "source": []
  }
 ],
 "metadata": {
  "kernelspec": {
   "display_name": "Python 3",
   "language": "python",
   "name": "python3"
  },
  "language_info": {
   "codemirror_mode": {
    "name": "ipython",
    "version": 3
   },
   "file_extension": ".py",
   "mimetype": "text/x-python",
   "name": "python",
   "nbconvert_exporter": "python",
   "pygments_lexer": "ipython3",
   "version": "3.6.4"
  }
 },
 "nbformat": 4,
 "nbformat_minor": 2
}
